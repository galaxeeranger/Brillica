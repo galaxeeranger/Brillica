{
  "nbformat": 4,
  "nbformat_minor": 0,
  "metadata": {
    "colab": {
      "name": "Greater,Smaller,Driving,Inventy.ipynb",
      "provenance": []
    },
    "kernelspec": {
      "name": "python3",
      "display_name": "Python 3"
    },
    "language_info": {
      "name": "python"
    }
  },
  "cells": [
    {
      "cell_type": "code",
      "metadata": {
        "id": "qctEVlUMNFdR"
      },
      "source": [
        "# nested if elif else"
      ],
      "execution_count": null,
      "outputs": []
    },
    {
      "cell_type": "code",
      "metadata": {
        "colab": {
          "base_uri": "https://localhost:8080/"
        },
        "id": "coWZlgAe173a",
        "outputId": "7a4dc379-1045-464c-957d-bb492480530b"
      },
      "source": [
        "#smaller with nested if \n",
        "a=5\n",
        "b=3\n",
        "c=1\n",
        "if a<b:\n",
        "  print(\"1\")\n",
        "  if a<c:\n",
        "    print(\"a is small\")\n",
        "  else:\n",
        "    print(\"c is small\")\n",
        "else:\n",
        "  print(\"2\")\n",
        "  if b<c:\n",
        "    print(\"b is small\")\n",
        "  else:\n",
        "    print(\"c is small\")"
      ],
      "execution_count": null,
      "outputs": [
        {
          "output_type": "stream",
          "name": "stdout",
          "text": [
            "2\n",
            "c is small\n"
          ]
        }
      ]
    },
    {
      "cell_type": "code",
      "metadata": {
        "colab": {
          "base_uri": "https://localhost:8080/"
        },
        "id": "wpWIIT1GI01G",
        "outputId": "fb91ac69-aad6-46ae-bf7a-19fc23da5fc4"
      },
      "source": [
        "#greater with nested if \n",
        "a=5\n",
        "b=12\n",
        "c=1\n",
        "if a>b:\n",
        "  print(\"1\")\n",
        "  if a>c:\n",
        "    print(\"a is greater\")\n",
        "  else:\n",
        "    print(\"c is greater\")\n",
        "else:\n",
        "  print(\"2\")\n",
        "  if b>c:\n",
        "    print(\"b is greater\")\n",
        "  else:\n",
        "    print(\"c is greater\")"
      ],
      "execution_count": null,
      "outputs": [
        {
          "output_type": "stream",
          "name": "stdout",
          "text": [
            "2\n",
            "b is greater\n"
          ]
        }
      ]
    },
    {
      "cell_type": "code",
      "metadata": {
        "colab": {
          "base_uri": "https://localhost:8080/"
        },
        "id": "3bnFljWRJ8m1",
        "outputId": "ef2c52fd-2625-4d27-c1fa-3079cc941d7b"
      },
      "source": [
        "#driving \n",
        "d=\"Age?\\t\"\n",
        "a=input(d)\n",
        "if a<'18':\n",
        "  print(\"You cannot drive\")\n",
        "else:\n",
        "  b=input(\"Do u have a DL?\")\n",
        "  if b=='yes':\n",
        "    print(\"You can Drive\")\n",
        "  else:\n",
        "    c=input(\"Do u have a LL?\")\n",
        "    if c=='yes':\n",
        "      print(\"You can Drive\")\n",
        "    else:\n",
        "      print(\"You cannot drive\")\n"
      ],
      "execution_count": null,
      "outputs": [
        {
          "output_type": "stream",
          "name": "stdout",
          "text": [
            "Age?\t18\n",
            "Do u have a DL?no\n",
            "Do u have a LL?yes\n",
            "You can Drive\n"
          ]
        }
      ]
    },
    {
      "cell_type": "code",
      "metadata": {
        "colab": {
          "base_uri": "https://localhost:8080/"
        },
        "id": "pmnDfs0FM-kT",
        "outputId": "9117f8aa-ba11-4f5e-f57b-2a4102dbb87e"
      },
      "source": [
        "inventry = 40\n",
        "order = 1\n",
        "\n",
        "if order>=1 and order<=40:\n",
        "  print(\"yes we can deliver your order\")\n",
        "  if order>0 and order<=4:\n",
        "    print(\"Your order will be deliver in 1 package\")\n",
        "  else:\n",
        "    print(\"Your order will be deliver in multiple packages\")\n",
        "else:\n",
        "  if order>=40:\n",
        "    print(\"No we cannot deliver your order\")\n",
        "  elif order<=0:\n",
        "    print(\"invalid order\")\n",
        "  else:\n",
        "    print(\"yes we can deliver your order\")\n"
      ],
      "execution_count": 4,
      "outputs": [
        {
          "output_type": "stream",
          "name": "stdout",
          "text": [
            "yes we can deliver your order\n",
            "Your order will be deliver in 1 package\n"
          ]
        }
      ]
    }
  ]
}