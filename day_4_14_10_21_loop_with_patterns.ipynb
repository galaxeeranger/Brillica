{
  "nbformat": 4,
  "nbformat_minor": 0,
  "metadata": {
    "colab": {
      "name": "day 4 14/10/21 loop with patterns.ipynb",
      "provenance": []
    },
    "kernelspec": {
      "name": "python3",
      "display_name": "Python 3"
    },
    "language_info": {
      "name": "python"
    }
  },
  "cells": [
    {
      "cell_type": "code",
      "metadata": {
        "id": "cQKha2BZovDC"
      },
      "source": [
        "#loops\n",
        "#  for loop (initialization, condition,increment/decrement) all in 1 line ** we use it when we know the limit/range\n",
        "#  while loop (initialization, condition,increment/decrement) all in 3 different lines ** we use it when we only know condition or any thing\n",
        "\n",
        "#  all for loop work can be done in while loop\n",
        "#  but all while loop work cannot be done in for loop\n",
        "\n",
        "nested for loop"
      ],
      "execution_count": null,
      "outputs": []
    },
    {
      "cell_type": "code",
      "metadata": {
        "colab": {
          "base_uri": "https://localhost:8080/"
        },
        "id": "AEL85jWRpEZO",
        "outputId": "a8780db1-3855-4edf-f344-9dfe8e01e512"
      },
      "source": [
        "\n",
        "for i in range(5):\n",
        "  print(\"Hello\",i+1)\n"
      ],
      "execution_count": null,
      "outputs": [
        {
          "output_type": "stream",
          "name": "stdout",
          "text": [
            "Hello 1\n",
            "Hello 2\n",
            "Hello 3\n",
            "Hello 4\n",
            "Hello 5\n"
          ]
        }
      ]
    },
    {
      "cell_type": "code",
      "metadata": {
        "colab": {
          "base_uri": "https://localhost:8080/"
        },
        "id": "F0zD6HFmrH3b",
        "outputId": "9909116f-4452-4f9a-bb9b-08d2140ae390"
      },
      "source": [
        "n=10\n",
        "for i in range(1,n+1):\n",
        "  print(\"Hello\",i)"
      ],
      "execution_count": null,
      "outputs": [
        {
          "output_type": "stream",
          "name": "stdout",
          "text": [
            "Hello 1\n",
            "Hello 2\n",
            "Hello 3\n",
            "Hello 4\n",
            "Hello 5\n",
            "Hello 6\n",
            "Hello 7\n",
            "Hello 8\n",
            "Hello 9\n",
            "Hello 10\n"
          ]
        }
      ]
    },
    {
      "cell_type": "code",
      "metadata": {
        "colab": {
          "base_uri": "https://localhost:8080/"
        },
        "id": "j541G_9jsIKC",
        "outputId": "927a6799-bbbf-456d-c744-39285e0115c1"
      },
      "source": [
        "n=10\n",
        "\n",
        "for i in range(1,n+1):\n",
        "  if i%2==0:\n",
        "    print(\"Even\",i)\n",
        "  else:\n",
        "    print(\"Odd\",i)"
      ],
      "execution_count": null,
      "outputs": [
        {
          "output_type": "stream",
          "name": "stdout",
          "text": [
            "Odd 1\n",
            "Even 2\n",
            "Odd 3\n",
            "Even 4\n",
            "Odd 5\n",
            "Even 6\n",
            "Odd 7\n",
            "Even 8\n",
            "Odd 9\n",
            "Even 10\n"
          ]
        }
      ]
    },
    {
      "cell_type": "code",
      "metadata": {
        "colab": {
          "base_uri": "https://localhost:8080/"
        },
        "id": "HSALI8QouKIK",
        "outputId": "480e231f-1588-4a71-c330-fea9682c43b5"
      },
      "source": [
        "n = int(input(\"enter the how many student are: \\n\"))\n",
        "for i in range(n):\n",
        "  num = int(input(\"enter the students marks in percentage\\n\"))\n",
        "  if num>=80 and num <=100:\n",
        "    print(\"A grade\")\n",
        "  elif num>=70 and num<=80:\n",
        "    print(\"B grade\")\n",
        "  elif num>=50 and num<=70:\n",
        "    print(\"C grade\")\n",
        "  elif num>=0 and num<=50:\n",
        "    print(\"D grade\")\n",
        "  else:\n",
        "    print(\"invalid input\")"
      ],
      "execution_count": null,
      "outputs": [
        {
          "output_type": "stream",
          "name": "stdout",
          "text": [
            "enter the how many student are: \n",
            "3\n",
            "enter the students marks in percentage\n",
            "89\n",
            "A grade\n",
            "enter the students marks in percentage\n",
            "56\n",
            "C grade\n",
            "enter the students marks in percentage\n",
            "89\n",
            "A grade\n"
          ]
        }
      ]
    },
    {
      "cell_type": "code",
      "metadata": {
        "colab": {
          "base_uri": "https://localhost:8080/"
        },
        "id": "5GoLYd-0vXqT",
        "outputId": "33e3f939-61c3-41a6-f8ac-36f46a774fd9"
      },
      "source": [
        "n=10\n",
        "s=0\n",
        "for i in range(1,n+1):\n",
        "  s=s+i\n",
        "print(\"Sum of n natural no\",s)"
      ],
      "execution_count": null,
      "outputs": [
        {
          "output_type": "stream",
          "name": "stdout",
          "text": [
            "Sum of n natural no 55\n"
          ]
        }
      ]
    },
    {
      "cell_type": "code",
      "metadata": {
        "colab": {
          "base_uri": "https://localhost:8080/"
        },
        "id": "-6vMlFLbypT8",
        "outputId": "1b09e7f3-964c-4c65-b29e-239435c63f5f"
      },
      "source": [
        "n=5\n",
        "f=1\n",
        "for i in range(1,n+1):\n",
        "  f=f*i\n",
        "print(\"factorial of n natural no\",f)"
      ],
      "execution_count": null,
      "outputs": [
        {
          "output_type": "stream",
          "name": "stdout",
          "text": [
            "factorial of n natural no 120\n"
          ]
        }
      ]
    },
    {
      "cell_type": "code",
      "metadata": {
        "colab": {
          "base_uri": "https://localhost:8080/"
        },
        "id": "H2ezdqlPzYDW",
        "outputId": "9118d677-5425-47c1-8b1a-e146d5d121dc"
      },
      "source": [
        "# print like 2x1=2\n",
        "\n",
        "num = int(input(\"Enter no to print table\\t\"))\n",
        "for i in range(1,11):\n",
        "  t=i*num\n",
        "  print(num,\"x\",i,\"=\",t)"
      ],
      "execution_count": null,
      "outputs": [
        {
          "output_type": "stream",
          "name": "stdout",
          "text": [
            "Enter no to print table\t2\n",
            "2 x 1 = 2\n",
            "2 x 2 = 4\n",
            "2 x 3 = 6\n",
            "2 x 4 = 8\n",
            "2 x 5 = 10\n",
            "2 x 6 = 12\n",
            "2 x 7 = 14\n",
            "2 x 8 = 16\n",
            "2 x 9 = 18\n",
            "2 x 10 = 20\n"
          ]
        }
      ]
    },
    {
      "cell_type": "code",
      "metadata": {
        "colab": {
          "base_uri": "https://localhost:8080/"
        },
        "id": "4j814G0-4bCJ",
        "outputId": "8596407c-8b66-4a86-c99d-ef013b57cd8f"
      },
      "source": [
        "#nested for loops\n",
        "\n",
        "for i in range(3):\n",
        "  for j in range(3):\n",
        "    print(\"*\")\n"
      ],
      "execution_count": null,
      "outputs": [
        {
          "output_type": "stream",
          "name": "stdout",
          "text": [
            "*\n",
            "*\n",
            "*\n",
            "*\n",
            "*\n",
            "*\n",
            "*\n",
            "*\n",
            "*\n"
          ]
        }
      ]
    },
    {
      "cell_type": "code",
      "metadata": {
        "colab": {
          "base_uri": "https://localhost:8080/"
        },
        "id": "biLM8Z1a4iXf",
        "outputId": "bd174ba3-4b4f-40c1-b0f8-1b702ef7670f"
      },
      "source": [
        "for i in range(3):\n",
        "  for j in range(3):\n",
        "    print(\"*\",end=\" \")\n",
        "  "
      ],
      "execution_count": null,
      "outputs": [
        {
          "output_type": "stream",
          "name": "stdout",
          "text": [
            "* * * * * * * * * "
          ]
        }
      ]
    },
    {
      "cell_type": "code",
      "metadata": {
        "colab": {
          "base_uri": "https://localhost:8080/"
        },
        "id": "hwinSClE1g_n",
        "outputId": "8d2b6c16-cbc6-4edb-f899-02933cf2de29"
      },
      "source": [
        "\n",
        "\n",
        "for i in range(3):\n",
        "  for j in range(3):\n",
        "    print(\"*\",end=\" \")\n",
        "  print(\"\\n\")"
      ],
      "execution_count": null,
      "outputs": [
        {
          "output_type": "stream",
          "name": "stdout",
          "text": [
            "* * * \n",
            "\n",
            "* * * \n",
            "\n",
            "* * * \n",
            "\n"
          ]
        }
      ]
    },
    {
      "cell_type": "code",
      "metadata": {
        "colab": {
          "base_uri": "https://localhost:8080/"
        },
        "id": "KSH7Nkun4Lc_",
        "outputId": "db0ec118-ab2f-4a6a-a1fe-8eb1090e070f"
      },
      "source": [
        "#square  *patter\n",
        "for i in range(3):\n",
        "  for j in range(3):\n",
        "    print(\"*\",end=\" \")\n",
        "  print()"
      ],
      "execution_count": null,
      "outputs": [
        {
          "output_type": "stream",
          "name": "stdout",
          "text": [
            "* * * \n",
            "* * * \n",
            "* * * \n"
          ]
        }
      ]
    },
    {
      "cell_type": "code",
      "metadata": {
        "colab": {
          "base_uri": "https://localhost:8080/"
        },
        "id": "WhcmJQvT4Mke",
        "outputId": "d66fd281-b219-4062-dfd7-3c62f06e6147"
      },
      "source": [
        "#rectangle  *patter\n",
        "for i in range(3):\n",
        "  for j in range(4):\n",
        "    print(\"*\",end=\" \")\n",
        "  print()"
      ],
      "execution_count": null,
      "outputs": [
        {
          "output_type": "stream",
          "name": "stdout",
          "text": [
            "* * * * \n",
            "* * * * \n",
            "* * * * \n"
          ]
        }
      ]
    },
    {
      "cell_type": "code",
      "metadata": {
        "colab": {
          "base_uri": "https://localhost:8080/"
        },
        "id": "AcMqQKaW90LL",
        "outputId": "7c6cab75-7de4-4b03-fec8-661bfdf1783b"
      },
      "source": [
        "#*\n",
        "#**\n",
        "#***\n",
        "#****\n",
        "#*****\n",
        "rows = int(input(\"Enter rows\\t\"))\n",
        "\n",
        "for i in range(rows+1):\n",
        "  for j in range(i):\n",
        "    print(\"*\",end=\" \")\n",
        "  print()"
      ],
      "execution_count": null,
      "outputs": [
        {
          "output_type": "stream",
          "name": "stdout",
          "text": [
            "Enter rows\t5\n",
            "\n",
            "* \n",
            "* * \n",
            "* * * \n",
            "* * * * \n",
            "* * * * * \n"
          ]
        }
      ]
    },
    {
      "cell_type": "code",
      "metadata": {
        "colab": {
          "base_uri": "https://localhost:8080/"
        },
        "id": "goKadmXi95_Y",
        "outputId": "eb506854-4eea-48af-be1c-5b19a5d07136"
      },
      "source": [
        "#*****\n",
        "#****\n",
        "#***\n",
        "#**\n",
        "#*\n",
        "\n",
        "rows = int(input(\"Enter rows\\t\"))\n",
        "\n",
        "for i in range(rows,0,-1):\n",
        "  for j in range(i):\n",
        "    print(\"*\",end=\" \")\n",
        "  print()"
      ],
      "execution_count": null,
      "outputs": [
        {
          "output_type": "stream",
          "name": "stdout",
          "text": [
            "Enter rows\t5\n",
            "* * * * * \n",
            "* * * * \n",
            "* * * \n",
            "* * \n",
            "* \n"
          ]
        }
      ]
    },
    {
      "cell_type": "code",
      "metadata": {
        "colab": {
          "base_uri": "https://localhost:8080/"
        },
        "id": "ZjGUmQjX-ktk",
        "outputId": "32842f99-108d-4056-a71c-dee49c1a9869"
      },
      "source": [
        "#*\n",
        "#**\n",
        "#***\n",
        "#****\n",
        "#*****\n",
        "#****\n",
        "#***\n",
        "#**\n",
        "#*\n",
        "\n",
        "rows = int(input(\"Enter rows\\t\"))\n",
        "\n",
        "for i in range(rows+1):\n",
        "  for j in range(i):\n",
        "    print(\"*\",end=\" \")\n",
        "  print()\n",
        "for i in range(rows-1,0,-1):\n",
        "  for j in range(i):\n",
        "    print(\"*\",end=\" \")\n",
        "  print()"
      ],
      "execution_count": null,
      "outputs": [
        {
          "output_type": "stream",
          "name": "stdout",
          "text": [
            "Enter rows\t5\n",
            "\n",
            "* \n",
            "* * \n",
            "* * * \n",
            "* * * * \n",
            "* * * * * \n",
            "* * * * \n",
            "* * * \n",
            "* * \n",
            "* \n"
          ]
        }
      ]
    },
    {
      "cell_type": "code",
      "metadata": {
        "colab": {
          "base_uri": "https://localhost:8080/"
        },
        "id": "hn9F1QS6-vUq",
        "outputId": "db5a8a1c-266a-4694-9c56-6741c3226849"
      },
      "source": [
        "#* 1\n",
        "#*** 3\n",
        "#***** 5\n",
        "#******* 7\n",
        "#********* 9\n",
        "\n",
        "rows = int(input(\"Enter rows\\t\"))\n",
        "\n",
        "for i in range(1,rows+1,+1):\n",
        "  for j in range(0,2*i-1,+1):\n",
        "    print(\"*\",end=\" \")\n",
        "  print()"
      ],
      "execution_count": null,
      "outputs": [
        {
          "output_type": "stream",
          "name": "stdout",
          "text": [
            "Enter rows\t5\n",
            "* \n",
            "* * * \n",
            "* * * * * \n",
            "* * * * * * * \n",
            "* * * * * * * * * \n"
          ]
        }
      ]
    },
    {
      "cell_type": "code",
      "metadata": {
        "colab": {
          "base_uri": "https://localhost:8080/"
        },
        "id": "Lb9rxM-a-xra",
        "outputId": "d87eadec-4ef9-4e25-d882-00b14b6fde2a"
      },
      "source": [
        "#with space and 3 loop\n",
        "#    *\n",
        "#   * *\n",
        "#  * * *\n",
        "# * * * *\n",
        "#* * * * *\n",
        "\n",
        "rows = int(input(\"Enter rows\\t\"))\n",
        "\n",
        "for i in range(1,rows+2,+1):\n",
        "  for space in range(1,rows+2-i,+1):\n",
        "    print(\"\",end=\" \")\n",
        "  for j in range(1,i,+1):\n",
        "    print(\"*\",end=\" \")\n",
        "  print(\" \")"
      ],
      "execution_count": null,
      "outputs": [
        {
          "output_type": "stream",
          "name": "stdout",
          "text": [
            "Enter rows\t5\n",
            "      \n",
            "    *  \n",
            "   * *  \n",
            "  * * *  \n",
            " * * * *  \n",
            "* * * * *  \n"
          ]
        }
      ]
    },
    {
      "cell_type": "code",
      "metadata": {
        "colab": {
          "base_uri": "https://localhost:8080/"
        },
        "id": "_412UIk8iJQC",
        "outputId": "9b2a30f6-6c26-4089-91be-edd5a55801f9"
      },
      "source": [
        "#pyramid with out space\n",
        "#    *\n",
        "#   ***\n",
        "#  *****\n",
        "# *******\n",
        "#*********\n",
        "\n",
        "rows = int(input(\"Enter rows\\t\"))\n",
        "\n",
        "for i in range(1,rows+2,+1):\n",
        "  for space in range(1,rows+2-i,+1):\n",
        "    print(\" \",end=\" \")\n",
        "  for j in range(0,2*i-1,+1):\n",
        "    print(\"*\",end=\" \")\n",
        "  print(\" \")"
      ],
      "execution_count": null,
      "outputs": [
        {
          "output_type": "stream",
          "name": "stdout",
          "text": [
            "Enter rows\t5\n",
            "          *  \n",
            "        * * *  \n",
            "      * * * * *  \n",
            "    * * * * * * *  \n",
            "  * * * * * * * * *  \n",
            "* * * * * * * * * * *  \n"
          ]
        }
      ]
    },
    {
      "cell_type": "code",
      "metadata": {
        "colab": {
          "base_uri": "https://localhost:8080/"
        },
        "id": "MvNCRgiuo4t2",
        "outputId": "78bae581-8a2b-4bc4-c501-9391bba38f08"
      },
      "source": [
        "#inverse pyramid\n",
        "#*********\n",
        "# *******\n",
        "#  *****\n",
        "#   ***\n",
        "#    *\n",
        "\n",
        "rows = int(input(\"Enter rows\\t\"))\n",
        "\n",
        "for i in range(rows,0,-1):\n",
        "  for space in range(1,rows+2-i,+1):\n",
        "    print(\" \",end=\" \")\n",
        "  for j in range(0,2*i-1,+1):\n",
        "    print(\"*\",end=\" \")\n",
        "  print(\" \")"
      ],
      "execution_count": null,
      "outputs": [
        {
          "output_type": "stream",
          "name": "stdout",
          "text": [
            "Enter rows\t5\n",
            "  * * * * * * * * *  \n",
            "    * * * * * * *  \n",
            "      * * * * *  \n",
            "        * * *  \n",
            "          *  \n"
          ]
        }
      ]
    },
    {
      "cell_type": "code",
      "metadata": {
        "colab": {
          "base_uri": "https://localhost:8080/"
        },
        "id": "8i3CrvGIoiTZ",
        "outputId": "dd898257-37dd-4a41-9cd5-65ffbb1a272c"
      },
      "source": [
        "#dimond \n",
        "#    *\n",
        "#   ***\n",
        "#  *****\n",
        "# *******\n",
        "#*********\n",
        "# *******\n",
        "#  *****\n",
        "#   ***\n",
        "#    *\n",
        "\n",
        "rows = int(input(\"Enter rows\\t\"))\n",
        "\n",
        "for i in range(1,rows+2,+1):\n",
        "  for space in range(1,rows+2-i,+1):\n",
        "    print(\" \",end=\" \")\n",
        "  for j in range(0,2*i-1,+1):\n",
        "    print(\"*\",end=\" \")\n",
        "  print(\" \")\n",
        "for i in range(rows,0,-1):\n",
        "  for space in range(1,rows+2-i,+1):\n",
        "    print(\" \",end=\" \")\n",
        "  for j in range(0,2*i-1,+1):\n",
        "    print(\"*\",end=\" \")\n",
        "  print(\" \")"
      ],
      "execution_count": null,
      "outputs": [
        {
          "output_type": "stream",
          "name": "stdout",
          "text": [
            "Enter rows\t5\n",
            "          *  \n",
            "        * * *  \n",
            "      * * * * *  \n",
            "    * * * * * * *  \n",
            "  * * * * * * * * *  \n",
            "* * * * * * * * * * *  \n",
            "  * * * * * * * * *  \n",
            "    * * * * * * *  \n",
            "      * * * * *  \n",
            "        * * *  \n",
            "          *  \n"
          ]
        }
      ]
    },
    {
      "cell_type": "code",
      "metadata": {
        "colab": {
          "base_uri": "https://localhost:8080/"
        },
        "id": "lnkQDpsFqDVr",
        "outputId": "6b408f18-ef04-432a-ebf6-df2a03578188"
      },
      "source": [
        "#while loop\n",
        "\n",
        "a=1\n",
        "while (a<=10):\n",
        "  print(a)\n",
        "  a=a+1\n",
        "\n",
        "print(\"Rest of code\")"
      ],
      "execution_count": null,
      "outputs": [
        {
          "output_type": "stream",
          "name": "stdout",
          "text": [
            "1\n",
            "2\n",
            "3\n",
            "4\n",
            "5\n",
            "6\n",
            "7\n",
            "8\n",
            "9\n",
            "10\n",
            "Rest of code\n"
          ]
        }
      ]
    },
    {
      "cell_type": "code",
      "metadata": {
        "colab": {
          "base_uri": "https://localhost:8080/"
        },
        "id": "LSGymZv0tN3J",
        "outputId": "8ceebe72-a055-47b3-9758-4a7c4a8e56ce"
      },
      "source": [
        "a=10\n",
        "while (a>=0):\n",
        "  print(a)\n",
        "  a=a-1\n",
        "\n",
        "print(\"Rest of code\")"
      ],
      "execution_count": null,
      "outputs": [
        {
          "output_type": "stream",
          "name": "stdout",
          "text": [
            "10\n",
            "9\n",
            "8\n",
            "7\n",
            "6\n",
            "5\n",
            "4\n",
            "3\n",
            "2\n",
            "1\n",
            "0\n",
            "Rest of code\n"
          ]
        }
      ]
    },
    {
      "cell_type": "code",
      "metadata": {
        "colab": {
          "base_uri": "https://localhost:8080/"
        },
        "id": "XC6dN2HMuhtb",
        "outputId": "0ed99c61-cb67-4351-a87e-f4a7ef237262"
      },
      "source": [
        "n=10\n",
        "s=0\n",
        "i=1\n",
        "while i<=n:\n",
        "  s=s+i\n",
        "  i=i+1\n",
        "print(\"Sum of n natural no\",s)"
      ],
      "execution_count": null,
      "outputs": [
        {
          "output_type": "stream",
          "name": "stdout",
          "text": [
            "Sum of n natural no 55\n"
          ]
        }
      ]
    },
    {
      "cell_type": "code",
      "metadata": {
        "colab": {
          "base_uri": "https://localhost:8080/"
        },
        "id": "1yTv2sdjxBaa",
        "outputId": "46a4f913-2aed-43b2-9697-9b749cd97808"
      },
      "source": [
        "n=5\n",
        "f=1\n",
        "i=1\n",
        "while (i<=n):\n",
        "  f=f*i\n",
        "  i=i+1\n",
        "print(\"factorial of n natural no\",f)"
      ],
      "execution_count": null,
      "outputs": [
        {
          "output_type": "stream",
          "name": "stdout",
          "text": [
            "factorial of n natural no 120\n"
          ]
        }
      ]
    }
  ]
}