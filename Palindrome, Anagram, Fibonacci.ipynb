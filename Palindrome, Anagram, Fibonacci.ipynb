{
 "cells": [
  {
   "cell_type": "code",
   "execution_count": 5,
   "id": "1b9caebe",
   "metadata": {},
   "outputs": [
    {
     "name": "stdout",
     "output_type": "stream",
     "text": [
      "Enter the Charater:12321\n",
      "The is a palindrome\n"
     ]
    }
   ],
   "source": [
    "#Palindrome for str and int\n",
    "# EX.:121, mam, hih, 232, madam\n",
    "\n",
    "\n",
    "\n",
    "def Palindrome(c):\n",
    "    i = 111\n",
    "    s = \"char\"\n",
    "    if type(c)==type(s):\n",
    "        if(c==c[::-1]):  \n",
    "              print(\"The is a palindrome\")  \n",
    "        else:  \n",
    "              print(\"Not a palindrome\") \n",
    "                \n",
    "    if type(c)==type(i):\n",
    "        Temp = c  \n",
    "        Rev = 0  \n",
    "        while(c > 0):  \n",
    "            dig = c % 10  \n",
    "            revrev = rev * 10 + dig  \n",
    "            num = c // 10  \n",
    "        if(temp == rev):  \n",
    "            print(\"The is a palindrome\")  \n",
    "        else:  \n",
    "              print(\"Not a palindrome\") \n",
    "            \n",
    "c = input(\"Enter the Charater:\")\n",
    "Palindrome(c)"
   ]
  },
  {
   "cell_type": "code",
   "execution_count": 4,
   "id": "ae7d828b",
   "metadata": {},
   "outputs": [
    {
     "name": "stdout",
     "output_type": "stream",
     "text": [
      "Value 1:listen\n",
      "Value 2:silent\n",
      "These are anagrams.\n"
     ]
    }
   ],
   "source": [
    "#Anagram for Strings and int\n",
    "# Ex.:listen-silent, 456-564\n",
    "\n",
    "\n",
    "def check(s1, s2):\n",
    "    \n",
    "    \n",
    "    # the sorted strings are checked\n",
    "    if(sorted(s1.lower())== sorted(s2.lower())):\n",
    "        print(\"These are anagrams.\")\n",
    "    else:\n",
    "        print(\"These aren't anagrams.\")\n",
    "\n",
    "s1 = input(\"Value 1:\")\n",
    "s2 = input(\"Value 2:\")\n",
    "check(s1,s2)"
   ]
  },
  {
   "cell_type": "code",
   "execution_count": 3,
   "id": "039999de",
   "metadata": {},
   "outputs": [
    {
     "name": "stdout",
     "output_type": "stream",
     "text": [
      "34\n"
     ]
    }
   ],
   "source": [
    "# Fibonacci only for int\n",
    "# Ex.: 0, 1, 1, 2, 3, 5, 8, 13, 21, 34, 55, 89, 144, ……..\n",
    "\n",
    "def Fibonacci(n):\n",
    "\n",
    "    # Check if input is 0 then it will\n",
    "    # print incorrect input\n",
    "    if n < 0:\n",
    "        print(\"Incorrect input\")\n",
    "    elif n == 0:\n",
    "        return 0\n",
    " \n",
    "    # Check if n is 1,2\n",
    "    # it will return 1\n",
    "    elif n == 1 or n == 2:\n",
    "        return 1\n",
    " \n",
    "    else:\n",
    "        return Fibonacci(n-1) + Fibonacci(n-2)\n",
    " \n",
    "\n",
    "\n",
    "print(Fibonacci(9))"
   ]
  },
  {
   "cell_type": "code",
   "execution_count": null,
   "id": "fa4908cd",
   "metadata": {},
   "outputs": [],
   "source": []
  },
  {
   "cell_type": "code",
   "execution_count": null,
   "id": "007e1e48",
   "metadata": {},
   "outputs": [],
   "source": []
  }
 ],
 "metadata": {
  "kernelspec": {
   "display_name": "Python 3 (ipykernel)",
   "language": "python",
   "name": "python3"
  },
  "language_info": {
   "codemirror_mode": {
    "name": "ipython",
    "version": 3
   },
   "file_extension": ".py",
   "mimetype": "text/x-python",
   "name": "python",
   "nbconvert_exporter": "python",
   "pygments_lexer": "ipython3",
   "version": "3.9.7"
  }
 },
 "nbformat": 4,
 "nbformat_minor": 5
}
