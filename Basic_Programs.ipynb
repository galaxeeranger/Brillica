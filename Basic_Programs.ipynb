{
  "nbformat": 4,
  "nbformat_minor": 0,
  "metadata": {
    "colab": {
      "name": "Basic Programs",
      "provenance": [],
      "collapsed_sections": []
    },
    "kernelspec": {
      "name": "python3",
      "display_name": "Python 3"
    },
    "language_info": {
      "name": "python"
    }
  },
  "cells": [
    {
      "cell_type": "code",
      "metadata": {
        "colab": {
          "base_uri": "https://localhost:8080/"
        },
        "id": "cpLWpPvU98Yp",
        "outputId": "54361be5-e83b-4174-aa5b-3b4a845f6f69"
      },
      "source": [
        "#even odd\n",
        "num = int(input(\"enter no\\n\"))\n",
        "if num%2==0:\n",
        "  print(\"even\")\n",
        "\n",
        "else :\n",
        "  print(\"odd\")\n"
      ],
      "execution_count": null,
      "outputs": [
        {
          "output_type": "stream",
          "name": "stdout",
          "text": [
            "enter no\n",
            "45\n",
            "odd\n"
          ]
        }
      ]
    },
    {
      "cell_type": "code",
      "metadata": {
        "colab": {
          "base_uri": "https://localhost:8080/"
        },
        "id": "sOskzw2_Bgym",
        "outputId": "35a87346-c3e4-42bb-e527-89e7f386a575"
      },
      "source": [
        "#positive negative\n",
        "num = int(input(\"enter no\\n\"))\n",
        "if num>0:\n",
        "  print(\"positive\")\n",
        "elif num==0:\n",
        "  print(\"it zero no positive no negative\")\n",
        "else :\n",
        "  print(\"negative\")"
      ],
      "execution_count": null,
      "outputs": [
        {
          "output_type": "stream",
          "name": "stdout",
          "text": [
            "enter no\n",
            "45\n",
            "positive\n"
          ]
        }
      ]
    },
    {
      "cell_type": "code",
      "metadata": {
        "colab": {
          "base_uri": "https://localhost:8080/"
        },
        "id": "xsb_ycEWCUWN",
        "outputId": "d3654953-da0d-49cd-e037-5353c05d8d0c"
      },
      "source": [
        "#grade\n",
        "num = int(input(\"enter no 1 to 100\\n\"))\n",
        "if num>=80 and num <=100:\n",
        "  print(\"A grade\")\n",
        "elif num>=70 and num<=80:\n",
        "  print(\"B grade\")\n",
        "elif num>=50 and num<=70:\n",
        "  print(\"C grade\")\n",
        "elif num>=0 and num<=50:\n",
        "  print(\"D grade\")\n",
        "else:\n",
        "  print(\"invalid input\")"
      ],
      "execution_count": null,
      "outputs": [
        {
          "output_type": "stream",
          "name": "stdout",
          "text": [
            "enter no 1 to 100\n",
            "101\n",
            "invalid input\n"
          ]
        }
      ]
    },
    {
      "cell_type": "code",
      "metadata": {
        "colab": {
          "base_uri": "https://localhost:8080/"
        },
        "id": "2WGmnxFXT3_U",
        "outputId": "20eafc3e-59c5-466e-aade-798ea01f867b"
      },
      "source": [
        "#incometax after\n",
        "salary = int(input(\"Enter Salary\\n\"))\n",
        "\n",
        "if salary<=300000:\n",
        "  tax=0\n",
        "  print(\"Tax\", tax)\n",
        "  print(\"NO tax on Salary below 3Lakhs :\", salary)\n",
        "elif salary>300000 and salary<=500000:\n",
        "  tax=salary*0.05\n",
        "  salary=salary-tax\n",
        "  print(\"5% Tax\", tax)\n",
        "  print(\"Tax on Salary 3L to 5L is 5% :\", salary)\n",
        "elif salary>500000 and salary<=1000000:\n",
        "  tax=salary*0.2\n",
        "  salary=salary-tax\n",
        "  print(\"20% Tax\", tax)\n",
        "  print(\"Tax on Salary 5L to 10L is 20% :\", salary)\n",
        "else :\n",
        "  tax=salary*0.3\n",
        "  salary=salary-tax\n",
        "  print(\"30% Tax\", tax)\n",
        "  print(\"Tax on Salary 5L to 10L is 30% :\", salary)\n"
      ],
      "execution_count": null,
      "outputs": [
        {
          "output_type": "stream",
          "name": "stdout",
          "text": [
            "Enter Salary\n",
            "400000\n",
            "5% Tax 20000.0\n",
            "Tax on Salary 3L to 5L is 5% : 380000.0\n"
          ]
        }
      ]
    },
    {
      "cell_type": "code",
      "metadata": {
        "colab": {
          "base_uri": "https://localhost:8080/"
        },
        "id": "xy9pAj5_W3sN",
        "outputId": "836c7fad-9ba1-4424-ab6d-20ad5473de17"
      },
      "source": [
        "#income tax by tax input\n",
        "\n",
        "salary = int(input(\"Enter Salary\\n\"))\n",
        "t1 = int(input(\"Enter Tax in %\\n\"))\n",
        "\n",
        "t2=t1/100\n",
        "tax=salary*t2\n",
        "salary_after_tax=salary-tax\n",
        "print(\"Tax on Salary is\", tax)\n",
        "print(\"Salary After Tax Recived is \", salary_after_tax)"
      ],
      "execution_count": null,
      "outputs": [
        {
          "output_type": "stream",
          "name": "stdout",
          "text": [
            "Enter Salary\n",
            "100\n",
            "Enter Tax in %\n",
            "5\n",
            "Tax on Salary is 5.0\n",
            "Salary After Tax Recived is  95.0\n"
          ]
        }
      ]
    },
    {
      "cell_type": "code",
      "metadata": {
        "colab": {
          "base_uri": "https://localhost:8080/"
        },
        "id": "KCSXpH7Oc8Wv",
        "outputId": "5ecec3b0-8b2c-48bb-f6da-68737642cb3f"
      },
      "source": [
        "#Travel Destination\n",
        "\n",
        "d=\"Choice any hills or beach ?\\t\"\n",
        "a=input(d)\n",
        "if a=='hills':\n",
        "  print(\"Kullu Manali\")\n",
        "else:\n",
        "  print(\"Goa Beach\")"
      ],
      "execution_count": null,
      "outputs": [
        {
          "output_type": "stream",
          "name": "stdout",
          "text": [
            "Let's Travel\n",
            "Choice any hills or beach ?\thills\n",
            "Kullu Manali\n"
          ]
        }
      ]
    },
    {
      "cell_type": "code",
      "metadata": {
        "colab": {
          "base_uri": "https://localhost:8080/"
        },
        "id": "PdIYGngRDILf",
        "outputId": "23b3536f-bbe4-40a3-b0a5-7ad53f0d945d"
      },
      "source": [
        "#pass fail\n",
        "num = int(input(\"enter no 1 to 100\\n\"))\n",
        "if num>=50:\n",
        "  print(\"pass\")\n",
        "\n",
        "else :\n",
        "  print(\"fail\")"
      ],
      "execution_count": null,
      "outputs": [
        {
          "output_type": "stream",
          "name": "stdout",
          "text": [
            "enter no 1 to 100\n",
            "49\n",
            "fail\n"
          ]
        }
      ]
    },
    {
      "cell_type": "code",
      "metadata": {
        "colab": {
          "base_uri": "https://localhost:8080/"
        },
        "id": "GaQwKkeFDf42",
        "outputId": "10307081-fb4d-4fe4-8eae-ce592bb01343"
      },
      "source": [
        "#1 no return modlo return +\n",
        "num = int(input(\"Enter no.\\n\"))\n",
        "if num<0:\n",
        "  num=num*-1\n",
        "  print(\"Modulo of given no. is\",num)\n",
        "else:\n",
        "  print(\"Modulo of given no. is\",num)"
      ],
      "execution_count": null,
      "outputs": [
        {
          "output_type": "stream",
          "name": "stdout",
          "text": [
            "Enter no.\n",
            "-5\n",
            "Modulo of given no. is 5\n"
          ]
        }
      ]
    },
    {
      "cell_type": "code",
      "metadata": {
        "colab": {
          "base_uri": "https://localhost:8080/"
        },
        "id": "FIv23MCGEneR",
        "outputId": "2a364da7-6f55-4cb8-db9e-1e7fb85f9980"
      },
      "source": [
        "#2 no greater/smaller\\\n",
        "a1 = int(input(\"Enter First Number\\n\"))\n",
        "a2 = int(input(\"Enter Second Number\\n\"))\n",
        "\n",
        "if a2>a1:\n",
        "  \n",
        "  print(\"greater\", a2)\n",
        "  print(\"smaller\", a1)\n",
        "\n",
        "elif a1>a2:\n",
        "  print(\"greater\", a1)\n",
        "  print(\"smaller\", a2)\n"
      ],
      "execution_count": null,
      "outputs": [
        {
          "output_type": "stream",
          "name": "stdout",
          "text": [
            "Enter First Number\n",
            "45\n",
            "Enter Second Number\n",
            "12\n",
            "greater 45\n",
            "smaller 12\n"
          ]
        }
      ]
    },
    {
      "cell_type": "code",
      "metadata": {
        "colab": {
          "base_uri": "https://localhost:8080/"
        },
        "id": "XEACo2yNIGm4",
        "outputId": "b4d27d25-4e89-45e8-ca27-fde2a50920a0"
      },
      "source": [
        "#3 no greater/smaller\n",
        "a1 = int(input(\"Enter First Number\\n\"))\n",
        "a2 = int(input(\"Enter Second Number\\n\"))\n",
        "a3 = int(input(\"Enter Third Number\\n\"))\n",
        "if a2>a1 and a1>a3:\n",
        "  print(\"greater\", a2)\n",
        "  print(\"smaller\", a3)\n",
        "\n",
        "elif a1>a2 and a2>a3:\n",
        "  print(\"greater\", a1)\n",
        "  print(\"smaller\", a3)\n",
        "\n",
        "elif a1==a2 and a2==a3:\n",
        "  print(\"All no. are equal\")\n",
        "  \n",
        "else:\n",
        "  print(\"greater\", a3)\n",
        "  print(\"smaller\", a2)"
      ],
      "execution_count": null,
      "outputs": [
        {
          "output_type": "stream",
          "name": "stdout",
          "text": [
            "Enter First Number\n",
            "5\n",
            "Enter Second Number\n",
            "5\n",
            "Enter Third Number\n",
            "5\n",
            "All no. are equal\n"
          ]
        }
      ]
    },
    {
      "cell_type": "code",
      "metadata": {
        "id": "lPJ2r5tRGuB2"
      },
      "source": [
        "# new code\n"
      ],
      "execution_count": null,
      "outputs": []
    }
  ]
}